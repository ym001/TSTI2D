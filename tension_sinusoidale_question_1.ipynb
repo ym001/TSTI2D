{
  "nbformat": 4,
  "nbformat_minor": 0,
  "metadata": {
    "colab": {
      "name": "Untitled4.ipynb",
      "provenance": [],
      "authorship_tag": "ABX9TyMh2daOx3+S4rQms19ySIBo",
      "include_colab_link": true
    },
    "kernelspec": {
      "name": "python3",
      "display_name": "Python 3"
    }
  },
  "cells": [
    {
      "cell_type": "markdown",
      "metadata": {
        "id": "view-in-github",
        "colab_type": "text"
      },
      "source": [
        "<a href=\"https://colab.research.google.com/github/ym001/TSTI2D/blob/main/tension_sinusoidale_question_1.ipynb\" target=\"_parent\"><img src=\"https://colab.research.google.com/assets/colab-badge.svg\" alt=\"Open In Colab\"/></a>"
      ]
    },
    {
      "cell_type": "code",
      "metadata": {
        "id": "vZRcVJh1rkpv",
        "outputId": "be5a958d-5832-468c-a6c3-73da21d1bafb",
        "colab": {
          "base_uri": "https://localhost:8080/",
          "height": 320
        }
      },
      "source": [
        "import numpy as np\n",
        "import matplotlib.pyplot as plt\n",
        "\n",
        "f=float(input('frequence='))\n",
        "u=float(input('umax='))\n",
        "\n",
        "periode=1/f\n",
        "nb_point=10\n",
        "step=periode/nb_point\n",
        "t=0\n",
        "\n",
        "x=[]\n",
        "y=[]\n",
        "for point in range(0,nb_point+1):\n",
        "    x.append(t)\n",
        "    y.append(u*np.sin(2*np.pi*f*t))\n",
        "    t=t+step\n",
        "\n",
        "plt.xlim(0,periode)\n",
        "\n",
        "plt.plot(x,y,\"go-\")"
      ],
      "execution_count": 22,
      "outputs": [
        {
          "output_type": "stream",
          "text": [
            "frequence=40\n",
            "umax=222\n"
          ],
          "name": "stdout"
        },
        {
          "output_type": "execute_result",
          "data": {
            "text/plain": [
              "[<matplotlib.lines.Line2D at 0x7fa9df286c88>]"
            ]
          },
          "metadata": {
            "tags": []
          },
          "execution_count": 22
        },
        {
          "output_type": "display_data",
          "data": {
            "image/png": "[encoded data removed]",
            "text/plain": [
              "<Figure size 432x288 with 1 Axes>"
            ]
          },
          "metadata": {
            "tags": [],
            "needs_background": "light"
          }
        }
      ]
    },
    {
      "cell_type": "code",
      "metadata": {
        "id": "VyyPKdyrtx3e",
        "outputId": "cd623329-6515-440c-9906-c751180cdb70",
        "colab": {
          "base_uri": "https://localhost:8080/",
          "height": 36
        }
      },
      "source": [
        ""
      ],
      "execution_count": 9,
      "outputs": [
        {
          "output_type": "stream",
          "text": [
            "u=23\n"
          ],
          "name": "stdout"
        }
      ]
    }
  ]
}