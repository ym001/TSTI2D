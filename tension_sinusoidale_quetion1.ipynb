{
  "nbformat": 4,
  "nbformat_minor": 0,
  "metadata": {
    "colab": {
      "name": "Untitled4.ipynb",
      "provenance": [],
      "authorship_tag": "ABX9TyN1LI+HDu4rDVqKUE4jkXOu",
      "include_colab_link": true
    },
    "kernelspec": {
      "name": "python3",
      "display_name": "Python 3"
    }
  },
  "cells": [
    {
      "cell_type": "markdown",
      "metadata": {
        "id": "view-in-github",
        "colab_type": "text"
      },
      "source": [
        "<a href=\"https://colab.research.google.com/github/ym001/TSTI2D/blob/main/tension_sinusoidale_quetion1.ipynb\" target=\"_parent\"><img src=\"https://colab.research.google.com/assets/colab-badge.svg\" alt=\"Open In Colab\"/></a>"
      ]
    },
    {
      "cell_type": "code",
      "metadata": {
        "id": "vZRcVJh1rkpv",
        "outputId": "53df1796-5354-4783-efb8-db6efed8937b",
        "colab": {
          "base_uri": "https://localhost:8080/",
          "height": 320
        }
      },
      "source": [
        "import numpy as np\n",
        "import matplotlib.pyplot as plt\n",
        "\n",
        "f=float(input('frequence='))\n",
        "u=float(input('umax='))\n",
        "periode=1/f\n",
        "nb_point=10\n",
        "step=periode/nb_point\n",
        "t=0\n",
        "x=[]\n",
        "y=[]\n",
        "for point in range(0,nb_point):\n",
        "    x.append(t)\n",
        "    y.append(u*np.sin(2*np.pi*f*t))\n",
        "    t=t+step\n",
        "\n",
        "plt.xlim(0,periode)\n",
        "\n",
        "plt.plot(x,y,\"go-\")"
      ],
      "execution_count": 20,
      "outputs": [
        {
          "output_type": "stream",
          "text": [
            "frequence=50\n",
            "umax=222\n"
          ],
          "name": "stdout"
        },
        {
          "output_type": "execute_result",
          "data": {
            "text/plain": [
              "[<matplotlib.lines.Line2D at 0x7fa9df431128>]"
            ]
          },
          "metadata": {
            "tags": []
          },
          "execution_count": 20
        },
        {
          "output_type": "display_data",
          "data": {
            "image/png": "[encoded data removed]",
            "text/plain": [
              "<Figure size 432x288 with 1 Axes>"
            ]
          },
          "metadata": {
            "tags": [],
            "needs_background": "light"
          }
        }
      ]
    },
    {
      "cell_type": "code",
      "metadata": {
        "id": "VyyPKdyrtx3e",
        "outputId": "cd623329-6515-440c-9906-c751180cdb70",
        "colab": {
          "base_uri": "https://localhost:8080/",
          "height": 36
        }
      },
      "source": [
        "f=input('frequence=')\n",
        "u=input('umax=')"
      ],
      "execution_count": 9,
      "outputs": [
        {
          "output_type": "stream",
          "text": [
            "u=23\n"
          ],
          "name": "stdout"
        }
      ]
    }
  ]
}